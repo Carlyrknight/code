{
 "cells": [
  {
   "cell_type": "markdown",
   "metadata": {},
   "source": [
    "''' This program runs a dynamic topic model\n",
    "\n",
    "#Date: Mar 4, 2019\n",
    "\n",
    "#Author: Carly Knight\n",
    "\n",
    "#https://github.com/RaRe-Technologies/gensim/blob/develop/docs/notebooks/dtm_example.ipynb\n",
    "#https://stackoverflow.com/questions/50413059/dynamic-topic-modeling-with-gensim-which-code'''\n"
   ]
  },
  {
   "cell_type": "markdown",
   "metadata": {},
   "source": [
    "## set up"
   ]
  },
  {
   "cell_type": "code",
   "execution_count": 1,
   "metadata": {},
   "outputs": [],
   "source": [
    "import logging\n",
    "import os\n",
    "from gensim import corpora, utils\n",
    "from gensim.models.wrappers.dtmmodel import DtmModel\n",
    "import numpy as np\n",
    "import pandas as pd\n",
    "from gensim.corpora import Dictionary\n",
    "from collections import defaultdict\n",
    "\n"
   ]
  },
  {
   "cell_type": "markdown",
   "metadata": {},
   "source": [
    "### dtm"
   ]
  },
  {
   "cell_type": "code",
   "execution_count": 2,
   "metadata": {},
   "outputs": [],
   "source": [
    "# you can also copy the path down directly. Change this variable to your DTM executable before running.\n",
    "dtm_path = \"/usr/local/bin/dtm-darwin64\""
   ]
  },
  {
   "cell_type": "markdown",
   "metadata": {},
   "source": [
    "# Open corpus"
   ]
  },
  {
   "cell_type": "code",
   "execution_count": 3,
   "metadata": {},
   "outputs": [],
   "source": [
    "file_loc = \"/Users/carlyknight/Documents/Data/Annual Report/report_paragraphs/future_texts/\"\n",
    "\n",
    "#limit to over 1930\n",
    "metadata = pd.read_csv(file_loc + \"metadata_futureperfect.csv\") \n",
    "metadata = metadata[(metadata['Year'] >= 1930)]\n",
    "metadata['text_filename'] = metadata['Filename'].str.replace(\".xml\", \".txt\")\n",
    "\n",
    "#pick relevant files\n",
    "textfiles = [i for i in metadata['text_filename'].values.tolist()]"
   ]
  },
  {
   "cell_type": "code",
   "execution_count": 4,
   "metadata": {},
   "outputs": [],
   "source": [
    "#open files\n",
    "for index, row in metadata.iterrows():\n",
    "    txtfile= row['Filename'].replace(\".xml\", \".txt\")\n",
    "    #read in text file and turn into new variable\n",
    "    with open(file_loc + txtfile, 'r') as f:\n",
    "        metadata.loc[index,'text']= f.read()\n",
    "        f.close()"
   ]
  },
  {
   "cell_type": "code",
   "execution_count": 5,
   "metadata": {},
   "outputs": [],
   "source": [
    "#metadata.shape (36479,17)"
   ]
  },
  {
   "cell_type": "code",
   "execution_count": 6,
   "metadata": {},
   "outputs": [],
   "source": [
    "#remove puncutation\n",
    "#metadata['text'] = metadata['text'].str.replace(r'[^\\w\\s]+', '')\n",
    "\n",
    "#remove numbers\n",
    "#metadata['text'] = metadata['text'].str.replace(r'[\\d]+', '')\n",
    "\n",
    "#remove extraspaces\n",
    "#metadata['text'] = metadata['text'].str.replace(r'\\s+', ' ')\n",
    "\n",
    "#turn to text\n",
    "documents = metadata['text'].tolist()"
   ]
  },
  {
   "cell_type": "markdown",
   "metadata": {},
   "source": [
    "## Preprocess"
   ]
  },
  {
   "cell_type": "code",
   "execution_count": 7,
   "metadata": {},
   "outputs": [],
   "source": [
    "from gensim.parsing.preprocessing import preprocess_string\n",
    "\n",
    "#processed corpus: removes punctuation, whitespaces, stopwords, stems, numbes\n",
    "processed_corpus = [preprocess_string(document) for document in documents] \n",
    "\n",
    "#remove low frequency terms (terms with fewer than 20) (brings it down to 35,244 from 953,010 tokens)\n",
    "frequency = defaultdict(int)\n",
    "\n",
    "for text in processed_corpus:\n",
    "    for token in text:\n",
    "        frequency[token] += 1\n",
    "\n",
    "processed_corpus = [\n",
    "    [token for token in text if frequency[token] > 20]\n",
    "    for text in processed_corpus\n",
    "]\n",
    "\n",
    "#dictionary\n",
    "dictionary = Dictionary(processed_corpus)\n",
    "\n",
    "#filter extremes: get rid of words that appear in no fewer than 10 documents\n",
    "dictionary.filter_extremes(no_below=15)\n",
    "len(dictionary) #33,025\n",
    "\n",
    "#Bag of Words\n",
    "bow_corpus = [dictionary.doc2bow(text) for text in processed_corpus]\n",
    "\n",
    "#Time slice\n",
    "counts = metadata[['Year', \"Filename\"]].groupby(['Year']).agg(['count'])\n",
    "timeslice=[i[0] for i in counts.values.tolist()]"
   ]
  },
  {
   "cell_type": "markdown",
   "metadata": {},
   "source": [
    "# DTM"
   ]
  },
  {
   "cell_type": "code",
   "execution_count": null,
   "metadata": {},
   "outputs": [],
   "source": [
    "model = DtmModel(dtm_path, bow_corpus, timeslice, num_topics=70,\n",
    "                 id2word=dictionary, initialize_lda=True)"
   ]
  },
  {
   "cell_type": "code",
   "execution_count": 90,
   "metadata": {},
   "outputs": [
    {
     "data": {
      "text/plain": [
       "[(0.01306688577931387, 'att'),\n",
       " (0.011909793220351062, 'fcc'),\n",
       " (0.011047612470614126, 'network'),\n",
       " (0.010441001555762832, 'commun'),\n",
       " (0.010253314866667177, 'revenu'),\n",
       " (0.00869561702492049, 'directv'),\n",
       " (0.0083704863324877, 'satellit'),\n",
       " (0.00816489166924309, 'wireless'),\n",
       " (0.007989921043732216, 'liberti'),\n",
       " (0.006754653406689982, 'system'),\n",
       " (0.006684133533246968, 'motorola'),\n",
       " (0.006452662712663201, 'local'),\n",
       " (0.006259950418967462, 'digit'),\n",
       " (0.006075097173693343, 'cabl'),\n",
       " (0.005966599844226008, 'access'),\n",
       " (0.00539191445340964, 'group'),\n",
       " (0.005352040750421336, 'internet'),\n",
       " (0.005090304519317974, 'hotel'),\n",
       " (0.004944988402084844, 'sprint'),\n",
       " (0.00473337956054552, 'offer'),\n",
       " (0.004592451409420068, 'telecommun'),\n",
       " (0.00426048963297498, 'connect'),\n",
       " (0.00420312018354661, 'competit'),\n",
       " (0.004194116304890932, 'alltel'),\n",
       " (0.004027564185158467, 'billion'),\n",
       " (0.003969594091958759, 'technolog'),\n",
       " (0.0038930195185951397, 'properti'),\n",
       " (0.0038228302663059228, 'broadband'),\n",
       " (0.003736473694821505, 'subscrib'),\n",
       " (0.003703855761300019, 'rule')]"
      ]
     },
     "execution_count": 90,
     "metadata": {},
     "output_type": "execute_result"
    }
   ],
   "source": [
    "topics = model.show_topic(topicid=1, time=10, topn=30)\n",
    "topics"
   ]
  },
  {
   "cell_type": "code",
   "execution_count": 19,
   "metadata": {},
   "outputs": [],
   "source": [
    "#https://towardsdatascience.com/topic-modeling-with-gensim-a5609cefccc"
   ]
  },
  {
   "cell_type": "markdown",
   "metadata": {},
   "source": [
    "# save"
   ]
  },
  {
   "cell_type": "code",
   "execution_count": 91,
   "metadata": {},
   "outputs": [],
   "source": [
    "import pickle"
   ]
  },
  {
   "cell_type": "code",
   "execution_count": 92,
   "metadata": {},
   "outputs": [],
   "source": [
    "f = open('/Users/carlyknight/Documents/Data/FuturePerfect/dynamic_topic_models/topic70.pkl', 'wb') \n",
    "pickle.dump(model, f , protocol=4)          \n",
    "f.close()                 "
   ]
  },
  {
   "cell_type": "code",
   "execution_count": null,
   "metadata": {},
   "outputs": [],
   "source": []
  }
 ],
 "metadata": {
  "kernelspec": {
   "display_name": "Python 3",
   "language": "python",
   "name": "python3"
  },
  "language_info": {
   "codemirror_mode": {
    "name": "ipython",
    "version": 3
   },
   "file_extension": ".py",
   "mimetype": "text/x-python",
   "name": "python",
   "nbconvert_exporter": "python",
   "pygments_lexer": "ipython3",
   "version": "3.7.3"
  }
 },
 "nbformat": 4,
 "nbformat_minor": 2
}
