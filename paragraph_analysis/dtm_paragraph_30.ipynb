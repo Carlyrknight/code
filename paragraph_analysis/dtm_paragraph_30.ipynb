{
 "cells": [
  {
   "cell_type": "markdown",
   "metadata": {},
   "source": [
    "''' This program runs a dynamic topic model\n",
    "\n",
    "#Date: June 27, 2020\n",
    "\n",
    "#Author: Carly Knight\n",
    "\n",
    "#https://github.com/RaRe-Technologies/gensim/blob/develop/docs/notebooks/dtm_example.ipynb\n",
    "#https://stackoverflow.com/questions/50413059/dynamic-topic-modeling-with-gensim-which-code'''\n"
   ]
  },
  {
   "cell_type": "markdown",
   "metadata": {},
   "source": [
    "## set up"
   ]
  },
  {
   "cell_type": "code",
   "execution_count": 1,
   "metadata": {},
   "outputs": [],
   "source": [
    "import logging\n",
    "import os\n",
    "from gensim import corpora, utils\n",
    "from gensim.models.wrappers.dtmmodel import DtmModel\n",
    "import numpy as np\n",
    "import pandas as pd\n",
    "from gensim.corpora import Dictionary\n",
    "from collections import defaultdict\n",
    "\n"
   ]
  },
  {
   "cell_type": "markdown",
   "metadata": {},
   "source": [
    "### dtm"
   ]
  },
  {
   "cell_type": "code",
   "execution_count": 2,
   "metadata": {},
   "outputs": [],
   "source": [
    "# you can also copy the path down directly. Change this variable to your DTM executable before running.\n",
    "dtm_path = \"/usr/local/bin/dtm-darwin64\""
   ]
  },
  {
   "cell_type": "markdown",
   "metadata": {},
   "source": [
    "# Open corpus"
   ]
  },
  {
   "cell_type": "code",
   "execution_count": 3,
   "metadata": {},
   "outputs": [],
   "source": [
    "file_loc = \"/Users/carlyknight/Documents/Data/Annual Report/report_paragraphs/future_texts_paragraphs/\"\n",
    "meta_loc = \"/Users/carlyknight/Documents/Data/Annual Report/report_paragraphs/future_texts/\""
   ]
  },
  {
   "cell_type": "code",
   "execution_count": 9,
   "metadata": {},
   "outputs": [],
   "source": [
    "#read data\n",
    "metadata = pd.read_csv(meta_loc + \"metadata_futureperfect_paragraphs.csv\") "
   ]
  },
  {
   "cell_type": "code",
   "execution_count": 12,
   "metadata": {},
   "outputs": [],
   "source": [
    "#limit to over 1930\n",
    "metadata = metadata[(metadata['Year'] >= 1930)]\n",
    "\n",
    "#create vars for filenames\n",
    "metadata['document_filename'] = metadata['Filename'].str.replace(\".xml\", \".txt\")\n",
    "metadata['paragraph_filetime']= metadata['Filename'].str.replace(\".xml\", \"\") + \"_P\" + metadata['Paragraph'].astype(str) + \".txt\"\n",
    "\n",
    "#941727, 19\n",
    "metadata.shape "
   ]
  },
  {
   "cell_type": "code",
   "execution_count": 13,
   "metadata": {},
   "outputs": [],
   "source": [
    "#pick relevant files\n",
    "textfiles = [i for i in metadata['paragraph_filetime'].values.tolist()]"
   ]
  },
  {
   "cell_type": "code",
   "execution_count": 47,
   "metadata": {},
   "outputs": [
    {
     "data": {
      "text/plain": [
       "830422"
      ]
     },
     "execution_count": 47,
     "metadata": {},
     "output_type": "execute_result"
    }
   ],
   "source": [
    "len(documentsdict)"
   ]
  },
  {
   "cell_type": "code",
   "execution_count": null,
   "metadata": {},
   "outputs": [],
   "source": [
    "# #open files (this step takes forever)\n",
    "# for index, row in metadata.iterrows():\n",
    "#     txtfile= row['paragraph_filetime']\n",
    "#     #read in text file and turn into new variable\n",
    "#     with open(file_loc + txtfile, 'r') as f:\n",
    "#         metadata.loc[index,'text']= f.read()\n",
    "#         f.close()"
   ]
  },
  {
   "cell_type": "code",
   "execution_count": 49,
   "metadata": {},
   "outputs": [],
   "source": [
    "#empty dictionary\n",
    "documentslist = []\n",
    "\n",
    "#put txt files into dictionary\n",
    "for txtfile in textfiles:\n",
    "    with open(file_loc + txtfile, 'r') as f:\n",
    "        documentslist.append(f.read())\n",
    "        f.close()"
   ]
  },
  {
   "cell_type": "code",
   "execution_count": 25,
   "metadata": {},
   "outputs": [],
   "source": [
    "#remove puncutation\n",
    "#metadata['text'] = metadata['text'].str.replace(r'[^\\w\\s]+', '')\n",
    "\n",
    "#remove numbers\n",
    "#metadata['text'] = metadata['text'].str.replace(r'[\\d]+', '')\n",
    "\n",
    "#remove extraspaces\n",
    "#metadata['text'] = metadata['text'].str.replace(r'\\s+', ' ')\n",
    "\n",
    "#turn to text\n",
    "#documents = metadata['text'].tolist()\n",
    "\n",
    "#turn dict to list\n",
    "#documentslist = list(documentsdict.values())"
   ]
  },
  {
   "cell_type": "markdown",
   "metadata": {},
   "source": [
    "## Preprocess"
   ]
  },
  {
   "cell_type": "code",
   "execution_count": 52,
   "metadata": {},
   "outputs": [],
   "source": [
    "from gensim.parsing.preprocessing import preprocess_string\n",
    "\n",
    "#processed corpus: removes punctuation, whitespaces, stopwords, stems, numbes\n",
    "processed_corpus = [preprocess_string(document) for document in documentslist] \n",
    "\n",
    "#remove low frequency terms (terms with fewer than 20) (brings it down to 35,244 from 953,010 tokens)\n",
    "frequency = defaultdict(int)\n",
    "\n",
    "for text in processed_corpus:\n",
    "    for token in text:\n",
    "        frequency[token] += 1\n",
    "\n",
    "processed_corpus = [\n",
    "    [token for token in text if frequency[token] > 10]\n",
    "    for text in processed_corpus\n",
    "]\n",
    "\n",
    "#dictionary\n",
    "dictionary = Dictionary(processed_corpus)\n",
    "\n",
    "#filter extremes: get rid of words that appear in no fewer than 5 documents\n",
    "dictionary.filter_extremes(no_below=5)\n",
    "len(dictionary) #43,025\n",
    "\n",
    "#Bag of Words\n",
    "bow_corpus = [dictionary.doc2bow(text) for text in processed_corpus]"
   ]
  },
  {
   "cell_type": "code",
   "execution_count": 55,
   "metadata": {},
   "outputs": [],
   "source": [
    "#Time slice\n",
    "counts = metadata[['Year', \"paragraph_filetime\"]].groupby(['Year']).agg(['count'])\n",
    "timeslice=[i[0] for i in counts.values.tolist()]"
   ]
  },
  {
   "cell_type": "code",
   "execution_count": 58,
   "metadata": {},
   "outputs": [],
   "source": [
    "#save\n",
    "import pickle\n",
    "\n",
    "f = open('/Users/carlyknight/Documents/Data/FuturePerfect/dynamic_topic_models/bow_corpus.pkl', 'wb') \n",
    "pickle.dump(bow_corpus, f , protocol=4)  "
   ]
  },
  {
   "cell_type": "code",
   "execution_count": 56,
   "metadata": {},
   "outputs": [],
   "source": [
    "f = open('/Users/carlyknight/Documents/Data/FuturePerfect/dynamic_topic_models/timeslice.pkl', 'wb') \n",
    "pickle.dump(timeslice, f , protocol=4)  "
   ]
  },
  {
   "cell_type": "code",
   "execution_count": 57,
   "metadata": {},
   "outputs": [],
   "source": [
    "f = open('/Users/carlyknight/Documents/Data/FuturePerfect/dynamic_topic_models/dictionary.pkl', 'wb') \n",
    "pickle.dump(dictionary, f , protocol=4)  "
   ]
  },
  {
   "cell_type": "markdown",
   "metadata": {},
   "source": [
    "# DTM"
   ]
  },
  {
   "cell_type": "code",
   "execution_count": 59,
   "metadata": {},
   "outputs": [],
   "source": [
    "model = DtmModel(dtm_path, bow_corpus, timeslice, num_topics=10,\n",
    "                 id2word=dictionary, initialize_lda=True)"
   ]
  },
  {
   "cell_type": "code",
   "execution_count": 61,
   "metadata": {},
   "outputs": [
    {
     "data": {
      "text/plain": [
       "[(0.0292026838633479, 'product'),\n",
       " (0.017882360518980095, 'year'),\n",
       " (0.016729942254754424, 'new'),\n",
       " (0.014984024016644724, 'increas'),\n",
       " (0.014765016519143985, 'sale'),\n",
       " (0.01308772828994461, 'market'),\n",
       " (0.011498421128094634, 'plant'),\n",
       " (0.010815669325945602, 'oper'),\n",
       " (0.009202203094732327, 'continu'),\n",
       " (0.009196817038446653, 'compani')]"
      ]
     },
     "execution_count": 61,
     "metadata": {},
     "output_type": "execute_result"
    }
   ],
   "source": [
    "topics = model.show_topic(topicid=9, time=10, topn=10)\n",
    "topics"
   ]
  },
  {
   "cell_type": "code",
   "execution_count": 19,
   "metadata": {},
   "outputs": [],
   "source": [
    "#https://towardsdatascience.com/topic-modeling-with-gensim-a5609cefccc"
   ]
  },
  {
   "cell_type": "markdown",
   "metadata": {},
   "source": [
    "# save"
   ]
  },
  {
   "cell_type": "code",
   "execution_count": 62,
   "metadata": {},
   "outputs": [],
   "source": [
    "f = open('/Users/carlyknight/Documents/Data/FuturePerfect/dynamic_topic_models/topic_para_10.pkl', 'wb') \n",
    "pickle.dump(model, f , protocol=4)          \n",
    "f.close()                 "
   ]
  },
  {
   "cell_type": "code",
   "execution_count": null,
   "metadata": {},
   "outputs": [],
   "source": []
  }
 ],
 "metadata": {
  "kernelspec": {
   "display_name": "Python 3",
   "language": "python",
   "name": "python3"
  },
  "language_info": {
   "codemirror_mode": {
    "name": "ipython",
    "version": 3
   },
   "file_extension": ".py",
   "mimetype": "text/x-python",
   "name": "python",
   "nbconvert_exporter": "python",
   "pygments_lexer": "ipython3",
   "version": "3.7.3"
  }
 },
 "nbformat": 4,
 "nbformat_minor": 2
}
