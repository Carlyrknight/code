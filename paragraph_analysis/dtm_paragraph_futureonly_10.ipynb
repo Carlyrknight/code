{
 "cells": [
  {
   "cell_type": "markdown",
   "metadata": {},
   "source": [
    "''' This program runs a dynamic topic model on future only paragraph\n",
    "\n",
    "#Date: July 7, 2020\n",
    "\n",
    "#Author: Carly Knight\n",
    "\n",
    "#https://github.com/RaRe-Technologies/gensim/blob/develop/docs/notebooks/dtm_example.ipynb\n",
    "#https://stackoverflow.com/questions/50413059/dynamic-topic-modeling-with-gensim-which-code'''\n"
   ]
  },
  {
   "cell_type": "markdown",
   "metadata": {},
   "source": [
    "## set up"
   ]
  },
  {
   "cell_type": "code",
   "execution_count": 1,
   "metadata": {},
   "outputs": [],
   "source": [
    "import logging\n",
    "import os\n",
    "from gensim import corpora, utils\n",
    "from gensim.models.wrappers.dtmmodel import DtmModel\n",
    "import numpy as np\n",
    "import pandas as pd\n",
    "from gensim.corpora import Dictionary\n",
    "from collections import defaultdict\n",
    "\n"
   ]
  },
  {
   "cell_type": "markdown",
   "metadata": {},
   "source": [
    "### dtm"
   ]
  },
  {
   "cell_type": "code",
   "execution_count": 2,
   "metadata": {},
   "outputs": [],
   "source": [
    "# you can also copy the path down directly. Change this variable to your DTM executable before running.\n",
    "dtm_path = \"/usr/local/bin/dtm-darwin64\""
   ]
  },
  {
   "cell_type": "markdown",
   "metadata": {},
   "source": [
    "# Open corpus"
   ]
  },
  {
   "cell_type": "code",
   "execution_count": 3,
   "metadata": {},
   "outputs": [],
   "source": [
    "file_loc = \"/Users/carlyknight/Documents/Data/Annual Report/report_paragraphs/future_texts_paragraphs_futureonly/\""
   ]
  },
  {
   "cell_type": "code",
   "execution_count": 7,
   "metadata": {},
   "outputs": [],
   "source": [
    "#read data\n",
    "metadata = pd.read_csv(file_loc + \"metadata_futureperfect_paragraphs_futureonly.csv\") "
   ]
  },
  {
   "cell_type": "code",
   "execution_count": 8,
   "metadata": {},
   "outputs": [
    {
     "data": {
      "text/plain": [
       "(153955, 18)"
      ]
     },
     "execution_count": 8,
     "metadata": {},
     "output_type": "execute_result"
    }
   ],
   "source": [
    "#limit to over 1930\n",
    "metadata = metadata[(metadata['Year'] >= 1930)]\n",
    "\n",
    "#create vars for filenames\n",
    "metadata['document_filename'] = metadata['Filename'].str.replace(\".xml\", \".txt\")\n",
    "metadata['paragraph_filetime']= metadata['Filename'].str.replace(\".xml\", \"\") + \"_P\" + metadata['Paragraph'].astype(str) + \".txt\"\n",
    "\n",
    "#941727, 19\n",
    "metadata.shape "
   ]
  },
  {
   "cell_type": "code",
   "execution_count": 9,
   "metadata": {},
   "outputs": [],
   "source": [
    "#pick relevant files\n",
    "textfiles = [i for i in metadata['paragraph_filetime'].values.tolist()]"
   ]
  },
  {
   "cell_type": "code",
   "execution_count": 11,
   "metadata": {},
   "outputs": [
    {
     "data": {
      "text/plain": [
       "153955"
      ]
     },
     "execution_count": 11,
     "metadata": {},
     "output_type": "execute_result"
    }
   ],
   "source": [
    "len(textfiles)"
   ]
  },
  {
   "cell_type": "code",
   "execution_count": 12,
   "metadata": {},
   "outputs": [],
   "source": [
    "# #open files (this step takes forever)\n",
    "# for index, row in metadata.iterrows():\n",
    "#     txtfile= row['paragraph_filetime']\n",
    "#     #read in text file and turn into new variable\n",
    "#     with open(file_loc + txtfile, 'r') as f:\n",
    "#         metadata.loc[index,'text']= f.read()\n",
    "#         f.close()"
   ]
  },
  {
   "cell_type": "code",
   "execution_count": 13,
   "metadata": {},
   "outputs": [],
   "source": [
    "#empty dictionary\n",
    "documentslist = []\n",
    "\n",
    "#put txt files into dictionary\n",
    "for txtfile in textfiles:\n",
    "    with open(file_loc + txtfile, 'r') as f:\n",
    "        documentslist.append(f.read())\n",
    "        f.close()"
   ]
  },
  {
   "cell_type": "code",
   "execution_count": 14,
   "metadata": {},
   "outputs": [],
   "source": [
    "#remove puncutation\n",
    "#metadata['text'] = metadata['text'].str.replace(r'[^\\w\\s]+', '')\n",
    "\n",
    "#remove numbers\n",
    "#metadata['text'] = metadata['text'].str.replace(r'[\\d]+', '')\n",
    "\n",
    "#remove extraspaces\n",
    "#metadata['text'] = metadata['text'].str.replace(r'\\s+', ' ')\n",
    "\n",
    "#turn to text\n",
    "#documents = metadata['text'].tolist()\n",
    "\n",
    "#turn dict to list\n",
    "#documentslist = list(documentsdict.values())"
   ]
  },
  {
   "cell_type": "markdown",
   "metadata": {},
   "source": [
    "## Preprocess"
   ]
  },
  {
   "cell_type": "code",
   "execution_count": 15,
   "metadata": {},
   "outputs": [],
   "source": [
    "from gensim.parsing.preprocessing import preprocess_string\n",
    "\n",
    "#processed corpus: removes punctuation, whitespaces, stopwords, stems, numbes\n",
    "processed_corpus = [preprocess_string(document) for document in documentslist] \n",
    "\n",
    "#remove low frequency terms (terms with fewer than 20) (brings it down to 35,244 from 953,010 tokens)\n",
    "frequency = defaultdict(int)\n",
    "\n",
    "for text in processed_corpus:\n",
    "    for token in text:\n",
    "        frequency[token] += 1\n",
    "\n",
    "processed_corpus = [\n",
    "    [token for token in text if frequency[token] > 10]\n",
    "    for text in processed_corpus\n",
    "]\n",
    "\n",
    "#dictionary\n",
    "dictionary = Dictionary(processed_corpus)\n",
    "\n",
    "#filter extremes: get rid of words that appear in no fewer than 5 documents\n",
    "dictionary.filter_extremes(no_below=5)\n",
    "len(dictionary) #43,025\n",
    "\n",
    "#Bag of Words\n",
    "bow_corpus = [dictionary.doc2bow(text) for text in processed_corpus]"
   ]
  },
  {
   "cell_type": "code",
   "execution_count": 16,
   "metadata": {},
   "outputs": [],
   "source": [
    "#Time slice\n",
    "counts = metadata[['Year', \"paragraph_filetime\"]].groupby(['Year']).agg(['count'])\n",
    "timeslice=[i[0] for i in counts.values.tolist()]"
   ]
  },
  {
   "cell_type": "code",
   "execution_count": 17,
   "metadata": {},
   "outputs": [],
   "source": [
    "#save\n",
    "import pickle\n",
    "\n",
    "f = open('/Users/carlyknight/Documents/Data/FuturePerfect/dynamic_topic_models/bow_corpus.pkl', 'wb') \n",
    "pickle.dump(bow_corpus, f , protocol=4)  "
   ]
  },
  {
   "cell_type": "code",
   "execution_count": 18,
   "metadata": {},
   "outputs": [],
   "source": [
    "f = open('/Users/carlyknight/Documents/Data/FuturePerfect/dynamic_topic_models/timeslice.pkl', 'wb') \n",
    "pickle.dump(timeslice, f , protocol=4)  "
   ]
  },
  {
   "cell_type": "code",
   "execution_count": 19,
   "metadata": {},
   "outputs": [],
   "source": [
    "f = open('/Users/carlyknight/Documents/Data/FuturePerfect/dynamic_topic_models/dictionary.pkl', 'wb') \n",
    "pickle.dump(dictionary, f , protocol=4)  "
   ]
  },
  {
   "cell_type": "markdown",
   "metadata": {},
   "source": [
    "# DTM"
   ]
  },
  {
   "cell_type": "code",
   "execution_count": 20,
   "metadata": {},
   "outputs": [],
   "source": [
    "model = DtmModel(dtm_path, bow_corpus, timeslice, num_topics=50,\n",
    "                 id2word=dictionary, initialize_lda=True)"
   ]
  },
  {
   "cell_type": "code",
   "execution_count": 21,
   "metadata": {},
   "outputs": [
    {
     "data": {
      "text/plain": [
       "[(0.04156752674081997, 'valu'),\n",
       " (0.0376338673406211, 'asset'),\n",
       " (0.0285629463923049, 'estim'),\n",
       " (0.023276627559869402, 'cost'),\n",
       " (0.021816637596394944, 'cash'),\n",
       " (0.01854876630028244, 'impair'),\n",
       " (0.017843035113375105, 'flow'),\n",
       " (0.01519685710753916, 'fair'),\n",
       " (0.012997546790459745, 'base'),\n",
       " (0.011756561266272806, 'loss')]"
      ]
     },
     "execution_count": 21,
     "metadata": {},
     "output_type": "execute_result"
    }
   ],
   "source": [
    "topics = model.show_topic(topicid=9, time=10, topn=10)\n",
    "topics"
   ]
  },
  {
   "cell_type": "code",
   "execution_count": 19,
   "metadata": {},
   "outputs": [],
   "source": [
    "#https://towardsdatascience.com/topic-modeling-with-gensim-a5609cefccc"
   ]
  },
  {
   "cell_type": "markdown",
   "metadata": {},
   "source": [
    "# save"
   ]
  },
  {
   "cell_type": "code",
   "execution_count": 22,
   "metadata": {},
   "outputs": [],
   "source": [
    "f = open('/Users/carlyknight/Documents/Data/FuturePerfect/dynamic_topic_models/topic_para_futonly_50.pkl', 'wb') \n",
    "pickle.dump(model, f , protocol=4)          \n",
    "f.close()                 "
   ]
  },
  {
   "cell_type": "code",
   "execution_count": null,
   "metadata": {},
   "outputs": [],
   "source": []
  }
 ],
 "metadata": {
  "kernelspec": {
   "display_name": "Python 3",
   "language": "python",
   "name": "python3"
  },
  "language_info": {
   "codemirror_mode": {
    "name": "ipython",
    "version": 3
   },
   "file_extension": ".py",
   "mimetype": "text/x-python",
   "name": "python",
   "nbconvert_exporter": "python",
   "pygments_lexer": "ipython3",
   "version": "3.7.3"
  }
 },
 "nbformat": 4,
 "nbformat_minor": 2
}
