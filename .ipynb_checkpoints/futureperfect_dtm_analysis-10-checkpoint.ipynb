{
 "cells": [
  {
   "cell_type": "markdown",
   "metadata": {},
   "source": [
    "# Analyzing DTM Results\n",
    "#https://github.com/RaRe-Technologies/gensim/blob/develop/docs/notebooks/dtm_example.ipynb"
   ]
  },
  {
   "cell_type": "code",
   "execution_count": 1,
   "metadata": {},
   "outputs": [],
   "source": [
    "import pickle\n",
    "import pyLDAvis\n",
    "import pandas as pd\n",
    "import seaborn as sns\n",
    "import numpy as np\n",
    "from scipy.special import logsumexp\n",
    "import scipy as sp\n",
    "from collections import OrderedDict, defaultdict\n",
    "\n",
    "#set precision for pandas\n",
    "pd.set_option(\"display.precision\", 10)\n",
    " "
   ]
  },
  {
   "cell_type": "markdown",
   "metadata": {},
   "source": [
    "# Set topic number"
   ]
  },
  {
   "cell_type": "code",
   "execution_count": 2,
   "metadata": {},
   "outputs": [
    {
     "name": "stderr",
     "output_type": "stream",
     "text": [
      "/Users/carlyknight/anaconda3/lib/python3.7/site-packages/socks.py:58: DeprecationWarning: Using or importing the ABCs from 'collections' instead of from 'collections.abc' is deprecated, and in 3.8 it will stop working\n",
      "  from collections import Callable\n",
      "/Users/carlyknight/anaconda3/lib/python3.7/site-packages/scipy/sparse/sparsetools.py:21: DeprecationWarning: `scipy.sparse.sparsetools` is deprecated!\n",
      "scipy.sparse.sparsetools is a private module for scipy.sparse, and should not be used.\n",
      "  _deprecated()\n"
     ]
    },
    {
     "name": "stdout",
     "output_type": "stream",
     "text": [
      "dict_keys(['dtm_path', 'id2word', 'num_terms', 'num_topics', 'lencorpus', 'prefix', 'time_slices', 'lda_sequence_min_iter', 'lda_sequence_max_iter', 'lda_max_em_iter', 'alpha', 'top_chain_var', 'rng_seed', 'initialize_lda', 'lambda_', 'obs_', 'lhood_', 'gamma_', 'init_alpha', 'init_beta', 'init_ss', 'em_steps', 'influences_time'])\n"
     ]
    }
   ],
   "source": [
    "model = pickle.load(open(\"/Users/carlyknight/Documents/Data/FuturePerfect/dynamic_topic_models/topic10.pkl\", \"rb\" ) )\n",
    "#print model attirbutes\n",
    "print(model.__dict__.keys())"
   ]
  },
  {
   "cell_type": "code",
   "execution_count": 3,
   "metadata": {},
   "outputs": [
    {
     "data": {
      "text/plain": [
       "10"
      ]
     },
     "execution_count": 3,
     "metadata": {},
     "output_type": "execute_result"
    }
   ],
   "source": [
    "number_topic = model.num_topics\n",
    "number_topic"
   ]
  },
  {
   "cell_type": "code",
   "execution_count": 4,
   "metadata": {},
   "outputs": [],
   "source": [
    "corpus = pickle.load(open('/Users/carlyknight/Documents/Data/FuturePerfect/dynamic_topic_models/corpus.pkl', 'rb') )"
   ]
  },
  {
   "cell_type": "markdown",
   "metadata": {},
   "source": [
    "### IDENTIFY FREQUENT TERMS (FREX WORDS)"
   ]
  },
  {
   "cell_type": "markdown",
   "metadata": {},
   "source": [
    "### extract term-topic matrix (note this will be over all the time slices)"
   ]
  },
  {
   "cell_type": "markdown",
   "metadata": {},
   "source": [
    "# get_topics for DTM\n",
    "#get_topics()\n",
    "#Get the term-topic matrix learned during inference.\n",
    "\n",
    "#Returns\n",
    "#The probability for each word in each topic, shape (num_topics, vocabulary_size).\n",
    "\n",
    "#Return type\n",
    "#numpy.ndarray\n",
    "\n",
    "#https://stackoverflow.com/questions/42289858/extract-topic-word-probability-matrix-in-gensim-ldamodel"
   ]
  },
  {
   "cell_type": "code",
   "execution_count": 5,
   "metadata": {},
   "outputs": [],
   "source": [
    "def ecdf(arr):\n",
    "    \"\"\"Calculate the ECDF values for all elements in a 1D array.\"\"\"\n",
    "    return sp.stats.rankdata(arr, method='max') / arr.size"
   ]
  },
  {
   "cell_type": "code",
   "execution_count": 6,
   "metadata": {},
   "outputs": [],
   "source": [
    "def get_topics(model, time):\n",
    "    topic_terms = model.lambda_\n",
    "\n",
    "    #timeslice\n",
    "    timeslice = [ \"ts_\" + str(i) for i in range(topic_terms.shape[2])]\n",
    "\n",
    "    # find the right word based on column index\n",
    "    words = [model.id2word[i] for i in range(topic_terms.shape[1])]\n",
    "\n",
    "    #apply words over 40 topics, generate list of dataframes, columns are time-slices\n",
    "    word_time_topic_matrix=[]\n",
    "\n",
    "    for j in range(topic_terms.shape[0]):\n",
    "        temp = topic_terms[j]\n",
    "        temp=pd.DataFrame(temp,columns=timeslice)\n",
    "        temp['word'] = words\n",
    "        temp=temp.set_index('word')\n",
    "        word_time_topic_matrix.append(temp)\n",
    "    \n",
    "    #reshape dataframe so that its one dataframe per topic, columns are topics\n",
    "    topic_term_matrix=[ ]\n",
    "\n",
    "    for i in timeslice:\n",
    "        temp =pd.concat([df[[i]] for df in word_time_topic_matrix], axis=1)\n",
    "        temp.columns = [\"topic_\" + str(i) for i in range(number_topic)]\n",
    "        topic_term_matrix.append(temp)\n",
    "    \n",
    "    #now, invert so shape is (num_topics, vocabulary_size)\n",
    "    term_topic_matrix = [df.transpose() for df in topic_term_matrix] \n",
    "        \n",
    "    #convert estimates to probability (sum equals to 1 per topic)\n",
    "    term_topic_proba = np.apply_along_axis(lambda x: x/x.sum(),1,term_topic_matrix[time])\n",
    "    term_topic_proba1 = pd.DataFrame(term_topic_proba,columns=words)\n",
    "    \n",
    "    return term_topic_proba1\n",
    "    "
   ]
  },
  {
   "cell_type": "markdown",
   "metadata": {},
   "source": [
    "### Calculate FREX for all words in a topic model\n",
    "#see R STM package for details\n",
    "\n",
    "#https://gist.github.com/jrnold/daa039f02486009a24cf3e83403dabf0"
   ]
  },
  {
   "cell_type": "code",
   "execution_count": 7,
   "metadata": {},
   "outputs": [],
   "source": [
    "\"\"\"Calculate FREX scores for all words in a topic model.\n",
    "\n",
    "See R STM package for details.\n",
    "\n",
    "\"\"\"\n",
    "def frex(topics_matrix, w):\n",
    "    log_beta = np.log(topics_matrix)\n",
    "    log_exclusivity = log_beta - logsumexp(log_beta, axis=0)\n",
    "    #log_exclusivity = (log_beta.transpose() - logsumexp(log_beta, axis=0)).transpose()\n",
    "    exclusivity_ecdf = np.apply_along_axis(ecdf, 1, log_exclusivity)\n",
    "    freq_ecdf = np.apply_along_axis(ecdf, 1, log_beta)\n",
    "    #out = 1. /(w / freq_ecdf + (1 - w) / exclusivity_ecdf )\n",
    "    out = exclusivity_ecdf\n",
    "    return out\n"
   ]
  },
  {
   "cell_type": "code",
   "execution_count": 8,
   "metadata": {},
   "outputs": [],
   "source": [
    "def word_freq(corpus):\n",
    "    \"\"\"Calculate word frequencies in a ``corpus``.\"\"\"\n",
    "    counts = defaultdict(int)\n",
    "    for doc in corpus:\n",
    "        for word, count in doc:\n",
    "            counts[word] += count\n",
    "    total = sum(counts.values())\n",
    "    nwords = max(counts.keys())\n",
    "    out = np.zeros(nwords + 1)\n",
    "    for k, v in counts.items():\n",
    "        out[k] = v / total\n",
    "    return out"
   ]
  },
  {
   "cell_type": "code",
   "execution_count": 9,
   "metadata": {},
   "outputs": [],
   "source": [
    "def create_topic_word_data(model, corpus, frex_w, time):\n",
    "    \"\"\"Create data frame with topic-word information.\n",
    "    Parameters\n",
    "    ------------\n",
    "    model: Fitted dTM model\n",
    "    corpus: list\n",
    "    frex_w: float\n",
    "        Weight to use in FREX calculations.\n",
    "\n",
    "    Returns\n",
    "    ---------\n",
    "    :class:`pandas.DataFrame`\n",
    "        Data frame with the following columns.\n",
    "\n",
    "        :word: ``str``. Word\n",
    "        :word_id: ``float``. Word identifier\n",
    "        :topic: ``int``. Topic number\n",
    "        :prob: ``float``. Probability of the word conditional on a topic.\n",
    "        :frex: ``float``. FREX score\n",
    "    \"\"\"\n",
    "    #word ids\n",
    "    id2word = model.id2word\n",
    "    words = pd.DataFrame({\n",
    "        'word_id': list(id2word.keys()),\n",
    "        'word': list(id2word.values())\n",
    "         }, columns=(\"word_id\", \"word\"))\n",
    "    #get probabilities\n",
    "    topics_matrix = pd.DataFrame(get_topics(model, time))\n",
    "    #organize\n",
    "    term_topics = topics_matrix\n",
    "    term_topics.index.name = \"topic\"\n",
    "    term_topics=term_topics.stack().reset_index()\n",
    "    term_topics.columns = [\"topic\", \"word\", \"prob\"]\n",
    "    term_topics=term_topics.merge(words, left_on=\"word\", right_on=\"word\")\n",
    "    term_topics.columns = ['topic', 'word', 'prob', 'word_id'] #Step 5: merge back in \n",
    "    # need to ensure that the array's are flattened in the right order\n",
    "    term_topics['frex'] = np.ravel(frex(topics_matrix, w=frex_w), order=\"F\")\n",
    "    return term_topics\n",
    "\n",
    "\n"
   ]
  },
  {
   "cell_type": "markdown",
   "metadata": {},
   "source": [
    "## Frex output"
   ]
  },
  {
   "cell_type": "code",
   "execution_count": 10,
   "metadata": {},
   "outputs": [],
   "source": [
    "#run frex models, time = 78\n",
    "frex_output = create_topic_word_data(model, corpus, frex_w =.5, time = 78)"
   ]
  },
  {
   "cell_type": "code",
   "execution_count": 11,
   "metadata": {},
   "outputs": [],
   "source": [
    "#return frex words\n",
    "def get_frex_words(frex_output, number_topic, topn):\n",
    "    frexlist = frex_output.loc[frex_output['topic'] == number_topic].sort_values(by = \"frex\", ascending = True)['word'].tolist()\n",
    "    frexlist = frexlist[0:topn]\n",
    "    return frexlist"
   ]
  },
  {
   "cell_type": "markdown",
   "metadata": {},
   "source": [
    "# Get Topic Descriptions"
   ]
  },
  {
   "cell_type": "code",
   "execution_count": 12,
   "metadata": {},
   "outputs": [
    {
     "name": "stdout",
     "output_type": "stream",
     "text": [
      "TOPIC  0\n",
      "PROB WORDS: ['claim', 'court', 'asbesto', 'file', 'settlement', 'keyspan', 'bankruptci', 'insur']\n",
      "FREX WORDS: ['asbesto', 'keyspan', 'lyondel', 'owen', 'asbestosrel', 'txu', 'bankruptci', 'gatx']\n",
      " \n",
      "TOPIC  1\n",
      "PROB WORDS: ['year', 'compani', 'new', 'product', 'increas', 'oper', 'sale', 'continu']\n",
      "FREX WORDS: ['plant', 'car', 'steel', 'cent', 'aluminum', 'machin', 'war', 'railroad']\n",
      " \n",
      "TOPIC  2\n",
      "PROB WORDS: ['shall', 'compani', 'stock', 'agreement', 'share', 'director', 'corpor', 'date']\n",
      "FREX WORDS: ['shall', 'corn', 'magticom', 'peterstar', 'hereund', 'lender', 'aramark', 'corco']\n",
      " \n",
      "TOPIC  3\n",
      "PROB WORDS: ['oil', 'ga', 'compani', 'product', 'develop', 'aircraft', 'reserv', 'drill']\n",
      "FREX WORDS: ['oil', 'ga', 'occident', 'drill', 'crude', 'barrel', 'refineri', 'aircraft']\n",
      " \n",
      "TOPIC  4\n",
      "PROB WORDS: ['product', 'compani', 'care', 'research', 'health', 'develop', 'drug', 'new']\n",
      "FREX WORDS: ['patient', 'clinic', 'pharmaceut', 'drug', 'abbott', 'merck', 'medicin', 'pfizer']\n",
      " \n",
      "TOPIC  5\n",
      "PROB WORDS: ['store', 'fiscal', 'compani', 'year', 'food', 'new', 'retail', 'brand']\n",
      "FREX WORDS: ['store', 'food', 'merchandis', 'fiscal', 'brand', 'conagra', 'restaur', 'disnei']\n",
      " \n",
      "TOPIC  6\n",
      "PROB WORDS: ['system', 'servic', 'busi', 'custom', 'technolog', 'compani', 'develop', 'commun']\n",
      "FREX WORDS: ['textron', 'televis', 'softwar', 'electron', 'radio', 'trw', 'telecommun', 'ncr']\n",
      " \n",
      "TOPIC  7\n",
      "PROB WORDS: ['energi', 'cost', 'electr', 'ga', 'million', 'power', 'rate', 'util']\n",
      "FREX WORDS: ['mohawk', 'electr', 'niagara', 'cm', 'energi', 'ga', 'nuclear', 'dominion']\n",
      " \n",
      "TOPIC  8\n",
      "PROB WORDS: ['loan', 'risk', 'bank', 'rate', 'insur', 'credit', 'loss', 'manag']\n",
      "FREX WORDS: ['bancorp', 'loan', 'reinsur', 'risk', 'bank', 'policyhold', 'mortgag', 'lynch']\n",
      " \n",
      "TOPIC  9\n",
      "PROB WORDS: ['compani', 'million', 'cost', 'financi', 'oper', 'result', 'rate', 'plan']\n",
      "FREX WORDS: ['hedg', 'sfa', 'impair', 'postretir', 'fasb', 'currenc', 'longliv', 'swap']\n",
      " \n"
     ]
    }
   ],
   "source": [
    "for i in range(0,number_topic):\n",
    "    print(\"TOPIC \", i)\n",
    "    topics=model.show_topic(topicid=i, time=75, topn=8)\n",
    "    topic_words =[word for number, word in topics]\n",
    "    print(\"PROB WORDS:\", topic_words)\n",
    "    frex_words = get_frex_words(frex_output, number_topic = i, topn=8)\n",
    "    print(\"FREX WORDS:\", frex_words)\n",
    "    print(\" \")\n",
    "    "
   ]
  },
  {
   "cell_type": "code",
   "execution_count": 13,
   "metadata": {},
   "outputs": [],
   "source": [
    "#create top six words\n",
    "keywords = []\n",
    "\n",
    "for i in range(0,number_topic):\n",
    "    topics=model.show_topic(topicid=i, time=75, topn=6)\n",
    "    words=\" \".join([word for number, word in topics])\n",
    "    keywords.append(words)"
   ]
  },
  {
   "cell_type": "code",
   "execution_count": 14,
   "metadata": {},
   "outputs": [],
   "source": [
    "#https://www.machinelearningplus.com/nlp/topic-modeling-visualization-how-to-present-results-lda-models/\n",
    "#https://jeriwieringa.com/2017/06/21/Calculating-and-Visualizing-Topic-Significance-over-Time-Part-1/"
   ]
  },
  {
   "cell_type": "markdown",
   "metadata": {},
   "source": [
    "# Topics over time\n",
    "#https://jeriwieringa.com/2017/06/21/Calculating-and-Visualizing-Topic-Significance-over-Time-Part-1/\n",
    "#https://radimrehurek.com/gensim/models/ldamodel.html"
   ]
  },
  {
   "cell_type": "markdown",
   "metadata": {},
   "source": [
    "### open metadata"
   ]
  },
  {
   "cell_type": "code",
   "execution_count": 15,
   "metadata": {},
   "outputs": [],
   "source": [
    "file_loc = \"/Users/carlyknight/Documents/Data/Annual Report/report_paragraphs/future_texts/\"\n",
    "\n",
    "#limit to over 1930\n",
    "metadata = pd.read_csv(file_loc + \"metadata_futureperfect.csv\") \n",
    "metadata = metadata[(metadata['Year'] >= 1930)]\n",
    "metadata['text_filename'] = metadata['Filename'].str.replace(\".xml\", \".txt\")"
   ]
  },
  {
   "cell_type": "markdown",
   "metadata": {},
   "source": [
    "# Get document-topic weights"
   ]
  },
  {
   "cell_type": "code",
   "execution_count": 16,
   "metadata": {},
   "outputs": [
    {
     "data": {
      "text/plain": [
       "(36479, 10)"
      ]
     },
     "execution_count": 16,
     "metadata": {},
     "output_type": "execute_result"
    }
   ],
   "source": [
    "#create document-topic matrix\n",
    "num_docs = model.lencorpus\n",
    "data = []\n",
    "\n",
    "for j in range(0, num_docs):\n",
    "    doc_topics = [model.gamma_[j, i] for i in range(0, number_topic)]\n",
    "    data.append(doc_topics)\n",
    "    \n",
    "topic_document_distribution = pd.DataFrame(data)\n",
    "topic_document_distribution.shape\n"
   ]
  },
  {
   "cell_type": "code",
   "execution_count": 17,
   "metadata": {},
   "outputs": [],
   "source": [
    "#check to make sure weights load to 1:\n",
    "sumweights= topic_document_distribution.sum(axis=1)\n",
    "for i, doc in enumerate(sumweights):\n",
    "    if doc !=1:\n",
    "        continue\n",
    "        #print(\"Doc \", i, \" does not equal 1: \", doc )"
   ]
  },
  {
   "cell_type": "code",
   "execution_count": 18,
   "metadata": {},
   "outputs": [
    {
     "name": "stdout",
     "output_type": "stream",
     "text": [
      "            Filename  Year topic        weight\n",
      "21217   88178299.xml  1930     0  0.0001248439\n",
      "57696   88178299.xml  1930     1  0.7867674044\n",
      "94175   88178299.xml  1930     2  0.2122338440\n",
      "130654  88178299.xml  1930     3  0.0001248439\n",
      "167133  88178299.xml  1930     4  0.0001248439\n"
     ]
    }
   ],
   "source": [
    "#basically loads to 1\n",
    "\n",
    "#pull in metadata\n",
    "names = [i for i in metadata['Filename']]\n",
    "topic_document_distribution['Filename'] = names\n",
    "years = [i for i in metadata['Year']]\n",
    "topic_document_distribution['Year'] = years\n",
    "\n",
    "topic_document_distribution.to_csv(\"/Users/carlyknight/Dropbox/PROJECTS/ConceptionsofRisk/data/dtm/topic_document_distribution.csv\")\n",
    "\n",
    "#convert dataset to long\n",
    "dtm = pd.melt(topic_document_distribution, id_vars=[\"Filename\", \"Year\"], var_name= \"topic\", value_name='weight')\n",
    "dtm=dtm.sort_values(by = [\"Year\", \"Filename\", \"topic\"])\n",
    "print(dtm.head())"
   ]
  },
  {
   "cell_type": "code",
   "execution_count": 19,
   "metadata": {},
   "outputs": [
    {
     "name": "stdout",
     "output_type": "stream",
     "text": [
      "       Filename  Year topic        weight  \\\n",
      "0  88178299.xml  1930     0  0.0001248439   \n",
      "1  88178309.xml  1930     0  0.0521308907   \n",
      "2  88178340.xml  1930     0  0.0000624610   \n",
      "3  88178352.xml  1930     0  0.0003322259   \n",
      "4  88178376.xml  1930     0  0.0005847953   \n",
      "\n",
      "                                      keywords  \n",
      "0  claim court asbesto file settlement keyspan  \n",
      "1  claim court asbesto file settlement keyspan  \n",
      "2  claim court asbesto file settlement keyspan  \n",
      "3  claim court asbesto file settlement keyspan  \n",
      "4  claim court asbesto file settlement keyspan  \n"
     ]
    }
   ],
   "source": [
    "#put in topic keywords\n",
    "dfkeys = pd.DataFrame(keywords)\n",
    "dfkeys.columns = ['keywords']\n",
    "dfkeys['topic'] = range(0,number_topic)\n",
    "\n",
    "#merge\n",
    "dtm=dtm.merge(dfkeys, left_on='topic', right_on='topic')\n",
    "print(dtm.head())"
   ]
  },
  {
   "cell_type": "markdown",
   "metadata": {},
   "source": [
    "# Summary Statistics"
   ]
  },
  {
   "cell_type": "code",
   "execution_count": 20,
   "metadata": {},
   "outputs": [
    {
     "name": "stdout",
     "output_type": "stream",
     "text": [
      "Max: 0.9999530785673323\n",
      "Min: 4.3869103653858634e-07\n",
      "Average: 0.0999999999999966\n",
      "Median: 0.00016103059581320451\n",
      "Most frequent value: 0.0\n"
     ]
    }
   ],
   "source": [
    "dtm_sum = dtm[dtm['weight'] != 0]\n",
    "\n",
    "print(\"Max: {}\".format(dtm_sum['weight'].max()))\n",
    "print(\"Min: {}\".format(dtm_sum['weight'].min()))\n",
    "print(\"Average: {}\".format(dtm_sum['weight'].mean()))\n",
    "print(\"Median: {}\".format(dtm_sum['weight'].median()))\n",
    "print(\"Most frequent value: {}\".format(dtm_sum['weight'].round(3).value_counts().idxmax()))\n"
   ]
  },
  {
   "cell_type": "markdown",
   "metadata": {},
   "source": [
    "# Graph over time"
   ]
  },
  {
   "cell_type": "code",
   "execution_count": 21,
   "metadata": {},
   "outputs": [],
   "source": [
    "# Get number of docs per year\n",
    "total_docs = dtm.groupby('Year')['Filename'].apply(lambda x: len(x.unique())).reset_index()\n",
    "total_docs.columns = ['Year', 'total_docs']\n",
    "\n",
    "# Group by year and topic id\n",
    "dtm_avg = dtm.groupby(['Year', 'topic'])['weight'].sum().reset_index()\n",
    "\n",
    "# Merge dataframes\n",
    "dtm_avg_1 = dtm_avg.merge(total_docs, on=\"Year\", how=\"left\")\n",
    "\n",
    "# Compute the mean per topic\n",
    "dtm_avg_1['average_weight'] = dtm_avg_1['weight'] / dtm_avg_1['total_docs']\n",
    "\n",
    "#merge in labels\n",
    "labels= dtm[['topic', 'keywords']].drop_duplicates()\n",
    "dtm_avg_2 = dtm_avg_1.merge(labels, on='topic')\n",
    "\n",
    "dtm_time = dtm_avg_2"
   ]
  },
  {
   "cell_type": "code",
   "execution_count": 22,
   "metadata": {},
   "outputs": [],
   "source": [
    "#Create plot\n",
    "def create_pointplot(df, y_value, hue=None, col=None, wrap=None, height=5, aspect=1.5, title=\"\"):\n",
    "    p = sns.catplot(x=\"Year\", y=y_value, kind='point', hue=hue, \n",
    "                       col=col, col_wrap=wrap,  height=height, aspect=aspect, data=df)\n",
    "    p.fig.subplots_adjust(top=0.9)\n",
    "    p.fig.suptitle(title, fontsize=16)\n",
    "    p.set_xticklabels(rotation=45)\n",
    "    n = 5  # Keeps every 5th label\n",
    "    [l.set_visible(False) for (i,l) in enumerate(p.ax.xaxis.get_ticklabels()) if i % n != 0]\n",
    "    return p\n",
    "\n",
    "\n",
    "def create_bar(df, y_value, hue=None, col=None, wrap=None, height=5, aspect=1.5, title=\"\"):\n",
    "    p = sns.catplot(x=\"Year\", y=y_value, kind='bar', hue=hue, \n",
    "                       col=col, col_wrap=wrap, height=height, aspect=aspect, data=df)\n",
    "    p.fig.subplots_adjust(top=0.9)\n",
    "    p.fig.suptitle(title, fontsize=16)\n",
    "    return p\n",
    "\n",
    "\n"
   ]
  },
  {
   "cell_type": "markdown",
   "metadata": {},
   "source": [
    "# Plots"
   ]
  },
  {
   "cell_type": "code",
   "execution_count": 23,
   "metadata": {
    "scrolled": true
   },
   "outputs": [
    {
     "data": {
      "image/png": "[encoded data removed]",
      "text/plain": [
       "<Figure size 582.375x360 with 1 Axes>"
      ]
     },
     "metadata": {
      "needs_background": "light"
     },
     "output_type": "display_data"
    },
    {
     "data": {
      "image/png": "[encoded data removed]",
      "text/plain": [
       "<Figure size 582.375x360 with 1 Axes>"
      ]
     },
     "metadata": {
      "needs_background": "light"
     },
     "output_type": "display_data"
    }
   ],
   "source": [
    "for i in range(0, number_topic, 5):\n",
    "    dfs = dtm_time[(dtm_time['topic'] >= i) & (dtm_time['topic'] < i +5 )]\n",
    "    create_pointplot(dfs, 'average_weight', hue=\"topic\",\n",
    "                title=\"Yearly Average of Normalized Weight per Topic\")\n"
   ]
  },
  {
   "cell_type": "code",
   "execution_count": null,
   "metadata": {},
   "outputs": [],
   "source": []
  }
 ],
 "metadata": {
  "kernelspec": {
   "display_name": "Python 3",
   "language": "python",
   "name": "python3"
  },
  "language_info": {
   "codemirror_mode": {
    "name": "ipython",
    "version": 3
   },
   "file_extension": ".py",
   "mimetype": "text/x-python",
   "name": "python",
   "nbconvert_exporter": "python",
   "pygments_lexer": "ipython3",
   "version": "3.7.3"
  }
 },
 "nbformat": 4,
 "nbformat_minor": 2
}
