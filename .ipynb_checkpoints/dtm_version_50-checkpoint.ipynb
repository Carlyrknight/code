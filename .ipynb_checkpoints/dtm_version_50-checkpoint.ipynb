{
 "cells": [
  {
   "cell_type": "markdown",
   "metadata": {},
   "source": [
    "''' This program runs a dynamic topic model\n",
    "\n",
    "#Date: Mar 4, 2019\n",
    "\n",
    "#Author: Carly Knight\n",
    "\n",
    "#https://github.com/RaRe-Technologies/gensim/blob/develop/docs/notebooks/dtm_example.ipynb\n",
    "#https://stackoverflow.com/questions/50413059/dynamic-topic-modeling-with-gensim-which-code'''\n"
   ]
  },
  {
   "cell_type": "markdown",
   "metadata": {},
   "source": [
    "## set up"
   ]
  },
  {
   "cell_type": "code",
   "execution_count": 1,
   "metadata": {},
   "outputs": [],
   "source": [
    "import logging\n",
    "import os\n",
    "from gensim import corpora, utils\n",
    "from gensim.models.wrappers.dtmmodel import DtmModel\n",
    "import numpy as np\n",
    "import pandas as pd\n",
    "from gensim.corpora import Dictionary\n",
    "from collections import defaultdict\n",
    "\n"
   ]
  },
  {
   "cell_type": "markdown",
   "metadata": {},
   "source": [
    "### dtm"
   ]
  },
  {
   "cell_type": "code",
   "execution_count": 2,
   "metadata": {},
   "outputs": [],
   "source": [
    "# you can also copy the path down directly. Change this variable to your DTM executable before running.\n",
    "dtm_path = \"/usr/local/bin/dtm-darwin64\""
   ]
  },
  {
   "cell_type": "markdown",
   "metadata": {},
   "source": [
    "# Open corpus"
   ]
  },
  {
   "cell_type": "code",
   "execution_count": 3,
   "metadata": {},
   "outputs": [],
   "source": [
    "file_loc = \"/Users/carlyknight/Documents/Data/Annual Report/report_paragraphs/future_texts/\"\n",
    "\n",
    "#limit to over 1930\n",
    "metadata = pd.read_csv(file_loc + \"metadata_futureperfect.csv\") \n",
    "metadata = metadata[(metadata['Year'] >= 1930)]\n",
    "metadata['text_filename'] = metadata['Filename'].str.replace(\".xml\", \".txt\")\n",
    "\n",
    "#pick relevant files\n",
    "textfiles = [i for i in metadata['text_filename'].values.tolist()]"
   ]
  },
  {
   "cell_type": "code",
   "execution_count": 4,
   "metadata": {},
   "outputs": [],
   "source": [
    "#open files\n",
    "for index, row in metadata.iterrows():\n",
    "    txtfile= row['Filename'].replace(\".xml\", \".txt\")\n",
    "    #read in text file and turn into new variable\n",
    "    with open(file_loc + txtfile, 'r') as f:\n",
    "        metadata.loc[index,'text']= f.read()\n",
    "        f.close()"
   ]
  },
  {
   "cell_type": "code",
   "execution_count": 5,
   "metadata": {},
   "outputs": [],
   "source": [
    "#metadata.shape (36479,17)"
   ]
  },
  {
   "cell_type": "code",
   "execution_count": 6,
   "metadata": {},
   "outputs": [],
   "source": [
    "#remove puncutation\n",
    "#metadata['text'] = metadata['text'].str.replace(r'[^\\w\\s]+', '')\n",
    "\n",
    "#remove numbers\n",
    "#metadata['text'] = metadata['text'].str.replace(r'[\\d]+', '')\n",
    "\n",
    "#remove extraspaces\n",
    "#metadata['text'] = metadata['text'].str.replace(r'\\s+', ' ')\n",
    "\n",
    "#turn to text\n",
    "documents = metadata['text'].tolist()"
   ]
  },
  {
   "cell_type": "markdown",
   "metadata": {},
   "source": [
    "## Preprocess"
   ]
  },
  {
   "cell_type": "code",
   "execution_count": 7,
   "metadata": {},
   "outputs": [],
   "source": [
    "from gensim.parsing.preprocessing import preprocess_string\n",
    "\n",
    "#processed corpus: removes punctuation, whitespaces, stopwords, stems, numbes\n",
    "processed_corpus = [preprocess_string(document) for document in documents] \n",
    "\n",
    "#remove low frequency terms (terms with fewer than 20) (brings it down to 35,244 from 953,010 tokens)\n",
    "frequency = defaultdict(int)\n",
    "\n",
    "for text in processed_corpus:\n",
    "    for token in text:\n",
    "        frequency[token] += 1\n",
    "\n",
    "processed_corpus = [\n",
    "    [token for token in text if frequency[token] > 10]\n",
    "    for text in processed_corpus\n",
    "]\n",
    "\n",
    "#dictionary\n",
    "dictionary = Dictionary(processed_corpus)\n",
    "\n",
    "#filter extremes: get rid of words that appear in no fewer than 5 documents\n",
    "#dictionary.filter_extremes(no_below=5)\n",
    "#len(dictionary) #46,729\n",
    "\n",
    "#Bag of Words\n",
    "bow_corpus = [dictionary.doc2bow(text) for text in processed_corpus]\n",
    "\n",
    "#Time slice\n",
    "counts = metadata[['Year', \"Filename\"]].groupby(['Year']).agg(['count'])\n",
    "timeslice=[i[0] for i in counts.values.tolist()]"
   ]
  },
  {
   "cell_type": "markdown",
   "metadata": {},
   "source": [
    "# DTM"
   ]
  },
  {
   "cell_type": "code",
   "execution_count": null,
   "metadata": {},
   "outputs": [],
   "source": [
    "model = DtmModel(dtm_path, bow_corpus, timeslice, num_topics=50,\n",
    "                 id2word=dictionary, initialize_lda=True)"
   ]
  },
  {
   "cell_type": "code",
   "execution_count": 25,
   "metadata": {},
   "outputs": [
    {
     "data": {
      "text/plain": [
       "[(0.015481209584802418, 'court'),\n",
       " (0.01144608952713821, 'secur'),\n",
       " (0.010478554773929588, 'claim'),\n",
       " (0.010261891376459597, 'shall'),\n",
       " (0.01024837942745122, 'compani'),\n",
       " (0.010223609189159934, 'file'),\n",
       " (0.008241328741381004, 'date'),\n",
       " (0.007010858513559495, 'agreement'),\n",
       " (0.006532345984960511, 'reorgan'),\n",
       " (0.005657322075369961, 'includ'),\n",
       " (0.005598894010905409, 'bankruptci'),\n",
       " (0.005441159485315524, 'leas'),\n",
       " (0.005380880595763501, 'case'),\n",
       " (0.005350931524106914, 'payment'),\n",
       " (0.0053289631967659516, 'section'),\n",
       " (0.005261204754475297, 'state'),\n",
       " (0.005241210398044721, 'subsidiari'),\n",
       " (0.00511305042204312, 'truste'),\n",
       " (0.005047382102408757, 'term'),\n",
       " (0.00502000026203218, 'requir'),\n",
       " (0.004995025246342993, 'properti'),\n",
       " (0.004988702345777676, 'damag'),\n",
       " (0.004986417906442868, 'action'),\n",
       " (0.004936488026357681, 'proceed'),\n",
       " (0.00473256554707202, 'plan'),\n",
       " (0.004671408547097483, 'provid'),\n",
       " (0.004624458399167179, 'time'),\n",
       " (0.004545058336074975, 'corpor'),\n",
       " (0.004483866790380004, 'district'),\n",
       " (0.004463666765735786, 'certain')]"
      ]
     },
     "execution_count": 25,
     "metadata": {},
     "output_type": "execute_result"
    }
   ],
   "source": [
    "topics = model.show_topic(topicid=19, time=10, topn=30)\n",
    "topics"
   ]
  },
  {
   "cell_type": "code",
   "execution_count": 19,
   "metadata": {},
   "outputs": [],
   "source": [
    "#https://towardsdatascience.com/topic-modeling-with-gensim-a5609cefccc"
   ]
  },
  {
   "cell_type": "markdown",
   "metadata": {},
   "source": [
    "# save"
   ]
  },
  {
   "cell_type": "code",
   "execution_count": 26,
   "metadata": {},
   "outputs": [],
   "source": [
    "import pickle"
   ]
  },
  {
   "cell_type": "code",
   "execution_count": 27,
   "metadata": {},
   "outputs": [],
   "source": [
    "f = open('/Users/carlyknight/Documents/Data/FuturePerfect/dynamic_topic_models/topic50.pkl', 'wb') \n",
    "pickle.dump(model, f , protocol=4)          \n",
    "f.close()                 "
   ]
  },
  {
   "cell_type": "code",
   "execution_count": null,
   "metadata": {},
   "outputs": [],
   "source": []
  }
 ],
 "metadata": {
  "kernelspec": {
   "display_name": "Python 3",
   "language": "python",
   "name": "python3"
  },
  "language_info": {
   "codemirror_mode": {
    "name": "ipython",
    "version": 3
   },
   "file_extension": ".py",
   "mimetype": "text/x-python",
   "name": "python",
   "nbconvert_exporter": "python",
   "pygments_lexer": "ipython3",
   "version": "3.7.3"
  }
 },
 "nbformat": 4,
 "nbformat_minor": 2
}
