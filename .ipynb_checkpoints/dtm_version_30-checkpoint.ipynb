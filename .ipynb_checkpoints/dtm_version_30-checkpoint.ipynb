{
 "cells": [
  {
   "cell_type": "markdown",
   "metadata": {},
   "source": [
    "''' This program runs a dynamic topic model\n",
    "\n",
    "#Date: Mar 4, 2019\n",
    "\n",
    "#Author: Carly Knight\n",
    "\n",
    "#https://github.com/RaRe-Technologies/gensim/blob/develop/docs/notebooks/dtm_example.ipynb\n",
    "#https://stackoverflow.com/questions/50413059/dynamic-topic-modeling-with-gensim-which-code'''\n"
   ]
  },
  {
   "cell_type": "markdown",
   "metadata": {},
   "source": [
    "## set up"
   ]
  },
  {
   "cell_type": "code",
   "execution_count": 1,
   "metadata": {},
   "outputs": [],
   "source": [
    "import logging\n",
    "import os\n",
    "from gensim import corpora, utils\n",
    "from gensim.models.wrappers.dtmmodel import DtmModel\n",
    "import numpy as np\n",
    "import pandas as pd\n",
    "from gensim.corpora import Dictionary\n",
    "from collections import defaultdict\n",
    "\n"
   ]
  },
  {
   "cell_type": "markdown",
   "metadata": {},
   "source": [
    "### dtm"
   ]
  },
  {
   "cell_type": "code",
   "execution_count": 2,
   "metadata": {},
   "outputs": [],
   "source": [
    "# you can also copy the path down directly. Change this variable to your DTM executable before running.\n",
    "dtm_path = \"/usr/local/bin/dtm-darwin64\""
   ]
  },
  {
   "cell_type": "markdown",
   "metadata": {},
   "source": [
    "# Open corpus"
   ]
  },
  {
   "cell_type": "code",
   "execution_count": 3,
   "metadata": {},
   "outputs": [],
   "source": [
    "file_loc = \"/Users/carlyknight/Documents/Data/Annual Report/report_paragraphs/future_texts/\"\n",
    "\n",
    "#limit to over 1930\n",
    "metadata = pd.read_csv(file_loc + \"metadata_futureperfect.csv\") \n",
    "metadata = metadata[(metadata['Year'] >= 1930)]\n",
    "metadata['text_filename'] = metadata['Filename'].str.replace(\".xml\", \".txt\")\n",
    "\n",
    "#pick relevant files\n",
    "textfiles = [i for i in metadata['text_filename'].values.tolist()]"
   ]
  },
  {
   "cell_type": "code",
   "execution_count": 4,
   "metadata": {},
   "outputs": [],
   "source": [
    "#open files\n",
    "for index, row in metadata.iterrows():\n",
    "    txtfile= row['Filename'].replace(\".xml\", \".txt\")\n",
    "    #read in text file and turn into new variable\n",
    "    with open(file_loc + txtfile, 'r') as f:\n",
    "        metadata.loc[index,'text']= f.read()\n",
    "        f.close()"
   ]
  },
  {
   "cell_type": "code",
   "execution_count": 5,
   "metadata": {},
   "outputs": [],
   "source": [
    "#metadata.shape (36479,17)"
   ]
  },
  {
   "cell_type": "code",
   "execution_count": 6,
   "metadata": {},
   "outputs": [],
   "source": [
    "#remove puncutation\n",
    "#metadata['text'] = metadata['text'].str.replace(r'[^\\w\\s]+', '')\n",
    "\n",
    "#remove numbers\n",
    "#metadata['text'] = metadata['text'].str.replace(r'[\\d]+', '')\n",
    "\n",
    "#remove extraspaces\n",
    "#metadata['text'] = metadata['text'].str.replace(r'\\s+', ' ')\n",
    "\n",
    "#turn to text\n",
    "documents = metadata['text'].tolist()"
   ]
  },
  {
   "cell_type": "markdown",
   "metadata": {},
   "source": [
    "## Preprocess"
   ]
  },
  {
   "cell_type": "code",
   "execution_count": 12,
   "metadata": {},
   "outputs": [],
   "source": [
    "from gensim.parsing.preprocessing import preprocess_string\n",
    "\n",
    "#processed corpus: removes punctuation, whitespaces, stopwords, stems, numbes\n",
    "processed_corpus = [preprocess_string(document) for document in documents] \n",
    "\n",
    "#remove low frequency terms (terms with fewer than 20) (brings it down to 35,244 from 953,010 tokens)\n",
    "frequency = defaultdict(int)\n",
    "\n",
    "for text in processed_corpus:\n",
    "    for token in text:\n",
    "        frequency[token] += 1\n",
    "\n",
    "processed_corpus = [\n",
    "    [token for token in text if frequency[token] > 10]\n",
    "    for text in processed_corpus\n",
    "]\n",
    "\n",
    "#dictionary\n",
    "dictionary = Dictionary(processed_corpus)\n",
    "\n",
    "#filter extremes: get rid of words that appear in no fewer than 5 documents\n",
    "dictionary.filter_extremes(no_below=5)\n",
    "len(dictionary) #43,025\n",
    "\n",
    "#Bag of Words\n",
    "bow_corpus = [dictionary.doc2bow(text) for text in processed_corpus]\n",
    "\n",
    "#Time slice\n",
    "counts = metadata[['Year', \"Filename\"]].groupby(['Year']).agg(['count'])\n",
    "timeslice=[i[0] for i in counts.values.tolist()]"
   ]
  },
  {
   "cell_type": "markdown",
   "metadata": {},
   "source": [
    "# DTM"
   ]
  },
  {
   "cell_type": "code",
   "execution_count": null,
   "metadata": {},
   "outputs": [],
   "source": [
    "model = DtmModel(dtm_path, bow_corpus, timeslice, num_topics=60,\n",
    "                 id2word=dictionary, initialize_lda=True)"
   ]
  },
  {
   "cell_type": "code",
   "execution_count": 9,
   "metadata": {},
   "outputs": [
    {
     "data": {
      "text/plain": [
       "[(0.016573847735850713, 'packag'),\n",
       " (0.012679141696170617, 'milk'),\n",
       " (0.012569200250279113, 'can'),\n",
       " (0.012220666202951003, 'food'),\n",
       " (0.011139409448768452, 'divis'),\n",
       " (0.009690988314308147, 'beverag'),\n",
       " (0.009541279238749277, 'brand'),\n",
       " (0.00934967481099446, 'drink'),\n",
       " (0.008340256302070661, 'contain'),\n",
       " (0.008020009420749392, 'beer'),\n",
       " (0.007913058720721166, 'bottl'),\n",
       " (0.007453064234360455, 'advertis'),\n",
       " (0.007309371105111086, 'dairi'),\n",
       " (0.0069844937851322305, 'consum'),\n",
       " (0.006816571228866524, 'canada'),\n",
       " (0.005700667028272678, 'pack'),\n",
       " (0.005227905021778262, 'wine'),\n",
       " (0.004872744495725469, 'soft'),\n",
       " (0.00435786967298999, 'dry'),\n",
       " (0.004121642267543723, 'research'),\n",
       " (0.004096569910747136, 'promot'),\n",
       " (0.0038952913177871342, 'bottler'),\n",
       " (0.0036885458412747926, 'qualiti'),\n",
       " (0.0036701712280872174, 'ahead'),\n",
       " (0.003602518718008271, 'label'),\n",
       " (0.0035736544374906066, 'borden'),\n",
       " (0.0034822811844904262, 'item'),\n",
       " (0.0034539611166010224, 'brew'),\n",
       " (0.0033211852191969374, 'breweri'),\n",
       " (0.003296018755019618, 'ic')]"
      ]
     },
     "execution_count": 9,
     "metadata": {},
     "output_type": "execute_result"
    }
   ],
   "source": [
    "topics = model.show_topic(topicid=1, time=10, topn=30)\n",
    "topics"
   ]
  },
  {
   "cell_type": "code",
   "execution_count": 19,
   "metadata": {},
   "outputs": [],
   "source": [
    "#https://towardsdatascience.com/topic-modeling-with-gensim-a5609cefccc"
   ]
  },
  {
   "cell_type": "markdown",
   "metadata": {},
   "source": [
    "# save"
   ]
  },
  {
   "cell_type": "code",
   "execution_count": 10,
   "metadata": {},
   "outputs": [],
   "source": [
    "import pickle"
   ]
  },
  {
   "cell_type": "code",
   "execution_count": 11,
   "metadata": {},
   "outputs": [],
   "source": [
    "f = open('/Users/carlyknight/Documents/Data/FuturePerfect/dynamic_topic_models/topic60.pkl', 'wb') \n",
    "pickle.dump(model, f , protocol=4)          \n",
    "f.close()                 "
   ]
  },
  {
   "cell_type": "code",
   "execution_count": null,
   "metadata": {},
   "outputs": [],
   "source": []
  }
 ],
 "metadata": {
  "kernelspec": {
   "display_name": "Python 3",
   "language": "python",
   "name": "python3"
  },
  "language_info": {
   "codemirror_mode": {
    "name": "ipython",
    "version": 3
   },
   "file_extension": ".py",
   "mimetype": "text/x-python",
   "name": "python",
   "nbconvert_exporter": "python",
   "pygments_lexer": "ipython3",
   "version": "3.7.3"
  }
 },
 "nbformat": 4,
 "nbformat_minor": 2
}
