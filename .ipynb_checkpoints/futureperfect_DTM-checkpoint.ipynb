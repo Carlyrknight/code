{
 "cells": [
  {
   "cell_type": "markdown",
   "metadata": {},
   "source": [
    "'''\n",
    "This program runs a dynamic topic model \n",
    "#Date: Mar 3, 2019\n",
    "#Author: Carly Knight\n",
    "#https://github.com/RaRe-Technologies/gensim/blob/develop/docs/notebooks/ldaseqmodel.ipynb\n",
    "'''"
   ]
  },
  {
   "cell_type": "markdown",
   "metadata": {},
   "source": [
    "### Import packages"
   ]
  },
  {
   "cell_type": "code",
   "execution_count": 48,
   "metadata": {},
   "outputs": [],
   "source": [
    "import pandas as pd\n",
    "import os\n",
    "import re\n",
    "from gensim.models import ldaseqmodel\n",
    "from gensim.corpora import Dictionary, bleicorpus\n",
    "import numpy\n",
    "from gensim.matutils import hellinger\n",
    "from gensim import corpora"
   ]
  },
  {
   "cell_type": "markdown",
   "metadata": {},
   "source": [
    "### Import data"
   ]
  },
  {
   "cell_type": "code",
   "execution_count": 28,
   "metadata": {},
   "outputs": [],
   "source": [
    "file_loc = \"/Users/carlyknight/Documents/Data/Annual Report/report_paragraphs/future_texts/\"\n",
    "\n",
    "metadata = pd.read_csv(file_loc + \"metadata_futureperfect.csv\") \n",
    "\n",
    "for index, row in metadata.iterrows():\n",
    "    txtfile= row['Filename'].replace(\".xml\", \".txt\")\n",
    "    #read in text file and turn into new variable\n",
    "    with open(file_loc + txtfile, 'r') as f:\n",
    "        metadata.loc[index,'text']= f.read()\n",
    "        f.close()\n"
   ]
  },
  {
   "cell_type": "markdown",
   "metadata": {},
   "source": [
    "### Clean + create corpus"
   ]
  },
  {
   "cell_type": "code",
   "execution_count": 45,
   "metadata": {},
   "outputs": [],
   "source": [
    "#stopwords\n",
    "stopwords = [\"a\", \"the\", \"thc\", \"co\", \"cco\", \"r\", \"x\", \"y\", \"t\", \"w\", \"k\", \"d\"]\n",
    "\n",
    "#lowercase\n",
    "metadata['text'] = metadata['text'].astype(str).str.lower()\n",
    "\n",
    "#remove puncutation\n",
    "metadata['text'] = metadata['text'].str.replace(r'[^\\w\\s]+', '')\n",
    "\n",
    "#remove numbers\n",
    "metadata['text'] = metadata['text'].str.replace(r'[\\d]+', '')\n",
    "\n",
    "#remove extraspaces\n",
    "metadata['text'] = metadata['text'].str.replace(r'\\s+', ' ')\n",
    "\n",
    "#turn to text\n",
    "documents = metadata['text'].tolist()\n",
    "\n",
    "#remove stopwords\n",
    "text = [\n",
    "    [word for word in document.split() if word not in stopwords]\n",
    "    for document in documents\n",
    "    ]\n",
    "\n",
    "#dictionary\n",
    "dictionary = corpora.Dictionary(doc.lower().split() for doc in documents)\n",
    "print(dictionary)"
   ]
  },
  {
   "cell_type": "code",
   "execution_count": 50,
   "metadata": {},
   "outputs": [],
   "source": []
  },
  {
   "cell_type": "code",
   "execution_count": 52,
   "metadata": {},
   "outputs": [
    {
     "name": "stdout",
     "output_type": "stream",
     "text": [
      "Dictionary(62134 unique tokens: ['accurately', 'activities', 'all', 'and', 'annual']...)\n"
     ]
    }
   ],
   "source": [
    "print(dictionary)"
   ]
  },
  {
   "cell_type": "code",
   "execution_count": null,
   "metadata": {},
   "outputs": [],
   "source": []
  }
 ],
 "metadata": {
  "kernelspec": {
   "display_name": "Python 3",
   "language": "python",
   "name": "python3"
  },
  "language_info": {
   "codemirror_mode": {
    "name": "ipython",
    "version": 3
   },
   "file_extension": ".py",
   "mimetype": "text/x-python",
   "name": "python",
   "nbconvert_exporter": "python",
   "pygments_lexer": "ipython3",
   "version": "3.7.3"
  }
 },
 "nbformat": 4,
 "nbformat_minor": 2
}
